{
 "cells": [
  {
   "attachments": {},
   "cell_type": "markdown",
   "metadata": {},
   "source": [
    "So now we have created all the tables, we need to make the SQLite table structure and then populate it. Let's start simple (no constraints) and add them in afterwards."
   ]
  },
  {
   "cell_type": "code",
   "execution_count": 1,
   "metadata": {},
   "outputs": [],
   "source": [
    "#Import libraries...\n",
    "\n",
    "import pandas as pd\n",
    "import os\n",
    "import sqlite3\n",
    "from sqlite3 import Error"
   ]
  },
  {
   "cell_type": "code",
   "execution_count": 149,
   "metadata": {},
   "outputs": [],
   "source": [
    "#Location where existing CSVs from last step are stored.\n",
    "path = r'C:\\\\Users\\\\Killian\\\\Projects\\\\SQL\\\\Superstore\\\\tables\\\\'"
   ]
  },
  {
   "cell_type": "code",
   "execution_count": null,
   "metadata": {},
   "outputs": [],
   "source": [
    "# def create_connection(db_file):\n",
    "#     \"\"\" create a database connection to a SQLite database \"\"\"\n",
    "#     conn = None\n",
    "#     try:\n",
    "#         conn = sqlite3.connect(db_file)\n",
    "#         print(sqlite3.version)\n",
    "#     except Error as e:\n",
    "#         print(e)\n",
    "#     finally:\n",
    "#         if conn:\n",
    "#             conn.close()\n",
    "\n",
    "\n",
    "# if __name__ == '__main__':\n",
    "#     create_connection(r\"C:\\sqlite\\db\\pythonsqlite.db\")"
   ]
  },
  {
   "cell_type": "code",
   "execution_count": 150,
   "metadata": {},
   "outputs": [],
   "source": [
    "#Creating an empty sqlite database to populate with the newly created dataframes\n",
    "sales_db = sqlite3.connect(\"superstore_database.db\")\n",
    "\n",
    "#Alternate method\n",
    "# import pyodbc \n",
    "# sales_db = pyodbc.connect('Driver={SQL Server};'\n",
    "#                      'Server=KILLBOT-LAPTOP\\SQLEXPRESS;'\n",
    "#                      'Database=test_database;'\n",
    "#                      'Trusted_Connection=yes;')"
   ]
  },
  {
   "cell_type": "code",
   "execution_count": 151,
   "metadata": {},
   "outputs": [],
   "source": [
    "# Establishing a cursor object (a tool that executes SQL code against the database)\n",
    "c = sales_db.cursor()"
   ]
  },
  {
   "cell_type": "code",
   "execution_count": 152,
   "metadata": {},
   "outputs": [
    {
     "data": {
      "text/plain": [
       "<sqlite3.Cursor at 0x2c5602b1960>"
      ]
     },
     "execution_count": 152,
     "metadata": {},
     "output_type": "execute_result"
    }
   ],
   "source": [
    "#create the (empty) tables which will be included in the database\n",
    "\n",
    "#Customers\n",
    "c.execute('''\n",
    "CREATE TABLE IF NOT EXISTS \"Customers\" (\n",
    "\t\"CustomerID\"\tCHAR(8),\n",
    "\t\"CustomerName\"\tVARCHAR(30),\n",
    "\t\"Segment\"\tVARCHAR(15),\n",
    "\tPRIMARY KEY(\"CustomerID\")\n",
    ");\n",
    "''')\n",
    "\n",
    "#Address\n",
    "c.execute('''\n",
    "CREATE TABLE IF NOT EXISTS \"Address\" (\n",
    "\t\"CustomerID\"\tCHAR(8),\n",
    "\t\"Region\"\tVARCHAR(7),\n",
    "\t\"State\"\tVARCHAR(20),\n",
    "\t\"City\"\tVARCHAR(30),\n",
    "\t\"PostalCode\"\tMEDIUMINT,\n",
    "\t\"AddressID\"\tCHAR(7),\n",
    "\tPRIMARY KEY(\"AddressID\"),\n",
    "    FOREIGN KEY (CustomerID) REFERENCES Customers(CustomerID)\n",
    ");\n",
    "''')\n",
    "\n",
    "#Orders\n",
    "c.execute('''\n",
    "CREATE TABLE IF NOT EXISTS \"Orders\" (\n",
    "\t\"OrderID\"\tCHAR(14),\n",
    "\t\"CustomerID\"\tCHAR(8),\n",
    "\t\"OrderDate\"\tDATE,\n",
    "\t\"AddressID\"\tCHAR(7),\n",
    "    \"ShipDate\"\tDATE,\n",
    "    \"ShipMode\"\tVARCHAR(20),\n",
    "\tPRIMARY KEY(\"OrderID\"),\n",
    "    FOREIGN KEY (CustomerID) REFERENCES Customers(CustomerID)\n",
    ");\n",
    "''')\n",
    "\n",
    "#Category\n",
    "c.execute('''\n",
    "CREATE TABLE IF NOT EXISTS \"Category\" (\n",
    "\t\"Category\"\tVARCHAR(20),\n",
    "\t\"Sub-Category\"\tVARCHAR(20),\n",
    "\t\"CategoryID\"\tCHAR(5),\n",
    "\tPRIMARY KEY(\"CategoryID\")\n",
    ");\n",
    "''')\n",
    "\n",
    "\n",
    "#Products\n",
    "c.execute('''\n",
    "CREATE TABLE IF NOT EXISTS \"Products\" (\n",
    "\t\"ProductID\"\tCHAR(15),\n",
    "\t\"ProductName\"\tVARCHAR(200),\n",
    "\t\"Catalogueprice\"\tMEDIUMINT,\n",
    "\t\"Supplierprice\"\tMEDIUMINT,\n",
    "\t\"CategoryID\"\tCHAR(5),\n",
    "\tPRIMARY KEY(\"ProductID\"),\n",
    "    FOREIGN KEY (CategoryID) REFERENCES Category(CategoryID)\n",
    ");\n",
    "''')\n",
    "\n",
    "\n",
    "#Order Details\n",
    "c.execute('''\n",
    "CREATE TABLE IF NOT EXISTS \"OrderDetails\" (\n",
    "\t\"OrderID\"\tCHAR(14),\n",
    "\t\"ProductID\"\tCHAR(15),\n",
    "\t\"Quantity\"\tTINYINT,\n",
    "\t\"Sales\"\tINT,\n",
    "\t\"Discount\"\tINT,\n",
    "\t\"Profit\"\tINT,\n",
    "\tPRIMARY KEY(\"OrderID\",\"ProductID\"),\n",
    "    FOREIGN KEY (ProductID) REFERENCES Products(ProductID),\n",
    "    FOREIGN KEY (OrderID) REFERENCES Orders(OrderID)\n",
    ");\n",
    "''')"
   ]
  },
  {
   "attachments": {},
   "cell_type": "markdown",
   "metadata": {},
   "source": [
    "Now let's populate the empty tables. First step is converting the CSVs created in the previous notebook."
   ]
  },
  {
   "cell_type": "code",
   "execution_count": 153,
   "metadata": {},
   "outputs": [],
   "source": [
    "csv_list = [os.path.splitext(filename)[0] for filename in os.listdir(path)]"
   ]
  },
  {
   "cell_type": "code",
   "execution_count": 154,
   "metadata": {},
   "outputs": [],
   "source": [
    "tables = [pd.read_csv(f'{path}{name}.csv') for name in csv_list]"
   ]
  },
  {
   "cell_type": "code",
   "execution_count": 155,
   "metadata": {},
   "outputs": [],
   "source": [
    "table_dict = dict(zip(csv_list, tables))"
   ]
  },
  {
   "cell_type": "code",
   "execution_count": 156,
   "metadata": {},
   "outputs": [],
   "source": [
    "table_list = iter(table_dict.keys())\n",
    "table_contents = iter(table_dict.values())\n",
    "\n",
    "for i in range (len(table_dict)):\n",
    "    next(table_contents).to_sql((next(table_list)), sales_db, if_exists='replace', index=True)"
   ]
  },
  {
   "cell_type": "code",
   "execution_count": null,
   "metadata": {},
   "outputs": [],
   "source": [
    "# 1. What is the category generating the maximum sales revenue?\n",
    "\n",
    "# 2. What about the profit in this category?\n",
    "\n",
    "# 3. Are they making a loss in any categories?\n",
    "\n",
    "# 4. What are 5 states generating the maximum and minimum sales revenue?\n",
    "\n",
    "# 5. What are the 3 products in each product segment with the highest sales?\n",
    "\n",
    "# 6. Are they the 3 most profitable products as well?\n",
    "\n",
    "# 7. What are the 3 best-seller products in each product segment? (Quantity-wise)\n",
    "\n",
    "# 8. What are the top 3 worst-selling products in every category? (Quantity-wise)\n",
    "\n",
    "# 9. How many unique customers per month are there for the year 2016"
   ]
  },
  {
   "cell_type": "code",
   "execution_count": 157,
   "metadata": {},
   "outputs": [],
   "source": [
    "#Always best practice to close the connection once you're done.\n",
    "sales_db.commit()\n",
    "sales_db.close()"
   ]
  }
 ],
 "metadata": {
  "kernelspec": {
   "display_name": "base",
   "language": "python",
   "name": "python3"
  },
  "language_info": {
   "codemirror_mode": {
    "name": "ipython",
    "version": 3
   },
   "file_extension": ".py",
   "mimetype": "text/x-python",
   "name": "python",
   "nbconvert_exporter": "python",
   "pygments_lexer": "ipython3",
   "version": "3.8.8"
  },
  "orig_nbformat": 4
 },
 "nbformat": 4,
 "nbformat_minor": 2
}
